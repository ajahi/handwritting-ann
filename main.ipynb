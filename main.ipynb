{
 "cells": [
  {
   "cell_type": "code",
   "execution_count": 2,
   "metadata": {},
   "outputs": [
    {
     "name": "stdout",
     "output_type": "stream",
     "text": [
      "   label  pixel0  pixel1  pixel2  pixel3  pixel4  pixel5  pixel6  pixel7  \\\n",
      "0      1       0       0       0       0       0       0       0       0   \n",
      "1      0       0       0       0       0       0       0       0       0   \n",
      "2      1       0       0       0       0       0       0       0       0   \n",
      "3      4       0       0       0       0       0       0       0       0   \n",
      "4      0       0       0       0       0       0       0       0       0   \n",
      "\n",
      "   pixel8  ...  pixel774  pixel775  pixel776  pixel777  pixel778  pixel779  \\\n",
      "0       0  ...         0         0         0         0         0         0   \n",
      "1       0  ...         0         0         0         0         0         0   \n",
      "2       0  ...         0         0         0         0         0         0   \n",
      "3       0  ...         0         0         0         0         0         0   \n",
      "4       0  ...         0         0         0         0         0         0   \n",
      "\n",
      "   pixel780  pixel781  pixel782  pixel783  \n",
      "0         0         0         0         0  \n",
      "1         0         0         0         0  \n",
      "2         0         0         0         0  \n",
      "3         0         0         0         0  \n",
      "4         0         0         0         0  \n",
      "\n",
      "[5 rows x 785 columns]\n",
      "--------------\n",
      "   pixel0  pixel1  pixel2  pixel3  pixel4  pixel5  pixel6  pixel7  pixel8  \\\n",
      "0       0       0       0       0       0       0       0       0       0   \n",
      "1       0       0       0       0       0       0       0       0       0   \n",
      "2       0       0       0       0       0       0       0       0       0   \n",
      "3       0       0       0       0       0       0       0       0       0   \n",
      "4       0       0       0       0       0       0       0       0       0   \n",
      "\n",
      "   pixel9  ...  pixel774  pixel775  pixel776  pixel777  pixel778  pixel779  \\\n",
      "0       0  ...         0         0         0         0         0         0   \n",
      "1       0  ...         0         0         0         0         0         0   \n",
      "2       0  ...         0         0         0         0         0         0   \n",
      "3       0  ...         0         0         0         0         0         0   \n",
      "4       0  ...         0         0         0         0         0         0   \n",
      "\n",
      "   pixel780  pixel781  pixel782  pixel783  \n",
      "0         0         0         0         0  \n",
      "1         0         0         0         0  \n",
      "2         0         0         0         0  \n",
      "3         0         0         0         0  \n",
      "4         0         0         0         0  \n",
      "\n",
      "[5 rows x 784 columns]\n"
     ]
    }
   ],
   "source": [
    "import numpy as np\n",
    "import pandas as pd\n",
    "import matplotlib.pyplot as plt\n",
    "import seaborn as sns\n",
    "from sklearn.preprocessing import StandardScaler\n",
    "from sklearn.metrics import confusion_matrix,accuracy_score,classification_report\n",
    "from sklearn.model_selection import train_test_split\n",
    "from sklearn.tree import DecisionTreeClassifier\n",
    "from sklearn.ensemble import RandomForestClassifier\n",
    "from sklearn.naive_bayes import GaussianNB\n",
    "from tensorflow.keras.models import Sequential\n",
    "from tensorflow.keras.layers import Dense,Input \n",
    "import itertools\n",
    "#import datasets\n",
    "test_data=pd.read_csv('test.csv')\n",
    "train_data=pd.read_csv('train.csv')\n",
    "#check data\n",
    "print(train_data.head())\n",
    "print('--------------')\n",
    "print(test_data.head())\n",
    "#split the data into features and label\n",
    "X_train=train_data.iloc[:, 1:] # grabs all row and columns except 1st column\n",
    "y_train=train_data.iloc[:, 0] # grabs only 1st column(label)\n",
    "\n",
    "X_test=test_data.iloc[:, 1:]\n",
    "y_test=test_data.iloc[:, 0]\n",
    "\n",
    "#normalizing data from 255 to 0,1\n",
    "X_train=X_train/255.0   \n",
    "X_test=X_test/255.0"
   ]
  },
  {
   "cell_type": "code",
   "execution_count": 3,
   "metadata": {},
   "outputs": [
    {
     "data": {
      "image/png": "[encoded data removed]",
      "text/plain": [
       "<Figure size 1000x500 with 10 Axes>"
      ]
     },
     "metadata": {},
     "output_type": "display_data"
    }
   ],
   "source": [
    "\n",
    "plt.figure(figsize=(10, 5))\n",
    "for i in range(10):\n",
    "    plt.subplot(2, 5, i+1)\n",
    "    plt.imshow(X_train.iloc[i].values.reshape(28, 28), cmap='gray')\n",
    "    plt.title(f\"Label: {y_train.iloc[i]}\")\n",
    "    plt.axis('off')\n",
    "plt.show()\n",
    "#correlation to find relations in features or redundant data\n"
   ]
  },
  {
   "cell_type": "code",
   "execution_count": null,
   "metadata": {},
   "outputs": [],
   "source": [
    "corr_matrix=train_data.iloc[:,1:101].corr() # data from rows and col starting from index 1 10 100 and calculates correlation\n",
    "plt.figure(figsize=(10,8))\n",
    "sns.heatmap(corr_matrix,annot=False,cmap='coolwarm')\n",
    "plt.title(\"COrrelation\")\n",
    "plt.show()\n",
    "#split data into train and validation (80/20)\n",
    "X_train_split,X_val_split,y_train_split,y_val_split=train_test_split(X_train,y_train,test_size=0.2,random_state=42)\n",
    "\n",
    "#confusion matrix for error analysis\n",
    "def plot_conf_mat(y_true,y_pred,model_name):\n",
    "    cm=confusion_matrix(y_true,y_pred)\n",
    "    plt.figure(figsize=(10,10))\n",
    "    sns.heatmap(cm,annot=True,fmt='d',cmap='coolwarm')\n",
    "    plt.title(f'Confusion Matrix for {model_name}')\n",
    "    plt.ylabel('Actual data')\n",
    "    plt.xlabel('Predicted data')\n",
    "    plt.show()\n",
    "#Decision Tree\n",
    "dt_model=DecisionTreeClassifier()\n",
    "dt_model.fit(X_train_split,y_train_split)\n",
    "y_pred_dt=dt_model.predict(X_val_split)\n",
    "plot_conf_mat(y_val_split,y_pred_dt,'Decision Tree')\n",
    "\n",
    "# Random Forest Classifier\n",
    "rf_model = RandomForestClassifier(n_estimators=100)\n",
    "rf_model.fit(X_train_split, y_train_split)\n",
    "y_pred_rf = rf_model.predict(X_val_split)\n",
    "plot_conf_mat(y_val_split, y_pred_rf, \"Random Forest\")\n",
    "#multilayer ann using multiple layer of nn\n",
    "ann_model=Sequential()\n",
    "ann_model.add(Input(shape=(X_train_split.shape[1],)))\n",
    "ann_model.add(Dense(256,activation='relu'))\n",
    "ann_model.add(Dense(128,activation='relu'))\n",
    "ann_model.add(Dense(10,activation='softmax'))\n",
    "#fitting nn model into data and spliting into test and training\n",
    "ann_model.compile(loss='sparse_categorical_crossentropy', optimizer='adam', metrics=['accuracy'])\n",
    "ann_model.fit(X_train_split, y_train_split, epochs=10, batch_size=64, validation_data=(X_val_split, y_val_split))\n",
    "y_pred_ann=np.argmax(ann_model.predict(X_val_split),axis=-1)\n",
    "plot_conf_mat(y_val_split,y_pred_ann,'Multilayer ANN')\n",
    "import joblib\n",
    "joblib.dump(ann_model,'handwritting.h5')"
   ]
  }
 ],
 "metadata": {
  "kernelspec": {
   "display_name": ".venv",
   "language": "python",
   "name": "python3"
  },
  "language_info": {
   "codemirror_mode": {
    "name": "ipython",
    "version": 3
   },
   "file_extension": ".py",
   "mimetype": "text/x-python",
   "name": "python",
   "nbconvert_exporter": "python",
   "pygments_lexer": "ipython3",
   "version": "3.12.8"
  }
 },
 "nbformat": 4,
 "nbformat_minor": 2
}
